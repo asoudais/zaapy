{
 "cells": [
  {
   "cell_type": "markdown",
   "id": "8871a60d-f95b-4ee7-b6d0-11a1c4ee0c09",
   "metadata": {},
   "source": [
    "# <center>Tutorial zaapy.api<center>"
   ]
  },
  {
   "cell_type": "markdown",
   "id": "e9bf7c34-6497-4f74-8f71-26797cee9cc1",
   "metadata": {},
   "source": [
    "## <u>First step:</u>\n",
    "\n",
    "- import zaapy.api </p>\n",
    "\n",
    "This allows you to use the API version of the package"
   ]
  },
  {
   "cell_type": "code",
   "execution_count": null,
   "id": "3604ecc6-540a-45b0-8a37-b1b2882b53d9",
   "metadata": {},
   "outputs": [],
   "source": [
    "from zaapy.api import GasDataSet\n",
    "import matplotlib.pyplot as plt\n",
    "import numpy as np\n",
    "from pathlib import Path"
   ]
  },
  {
   "cell_type": "markdown",
   "id": "540222e0-8814-4e33-b3e5-8622ce60e7d2",
   "metadata": {},
   "source": [
    "To load the data, we need to use the **GasDataSet** function.</p>\n",
    "To work this function requires several arguments:\n",
    "- timestep (always first argument)\n",
    "- geometry\n",
    "- directory\n",
    "- wanted_keys (fields to load)</p>\n",
    "\n",
    "Disclaimer: \n",
    "- the package works only following the GRZeltron format\n",
    "- only supports .h5 files\n"
   ]
  },
  {
   "cell_type": "code",
   "execution_count": null,
   "id": "4f7cce68-9cc5-425e-b0b3-b8f3510cbb88",
   "metadata": {},
   "outputs": [],
   "source": [
    "zaapy_path=Path(\"/home/soudaisa/github/zaapy/\")\n",
    "data_path=zaapy_path / \"tests/grzeltron\" # To complete where you cloned the github repo"
   ]
  },
  {
   "cell_type": "markdown",
   "id": "e26d605c-1eae-40d3-ba77-07448ff75e43",
   "metadata": {},
   "source": [
    "## <u>Second step:</u> Loading the data"
   ]
  },
  {
   "cell_type": "code",
   "execution_count": null,
   "id": "93b7946c-895e-4ada-b5fe-397fed2bc81e",
   "metadata": {},
   "outputs": [],
   "source": [
    "ds = GasDataSet(0, geometry=\"spherical\", directory=data_path,wanted_keys='electrons')\n"
   ]
  },
  {
   "cell_type": "markdown",
   "id": "958783c4-39c3-47ce-b831-c5b80ca0a1b2",
   "metadata": {},
   "source": [
    "If you give a timestep that is not present in your data"
   ]
  },
  {
   "cell_type": "code",
   "execution_count": null,
   "id": "28d856a9-fa59-4775-a3e8-f2da4144c313",
   "metadata": {},
   "outputs": [],
   "source": [
    "ds = GasDataSet(1, geometry=\"spherical\", directory=data_path,wanted_keys='electrons')\n"
   ]
  },
  {
   "cell_type": "markdown",
   "id": "9b4ce8bf-9b93-44eb-b741-677f885e80f0",
   "metadata": {},
   "source": [
    "If you mispell the wanted fields"
   ]
  },
  {
   "cell_type": "code",
   "execution_count": null,
   "id": "1e5115b5-53a3-4abf-ad05-564d7535ddda",
   "metadata": {},
   "outputs": [],
   "source": [
    "ds = GasDataSet(0, geometry=\"spherical\", directory=data_path,wanted_keys='electron')\n"
   ]
  },
  {
   "cell_type": "markdown",
   "id": "424dac92-2cd7-4543-8bb3-3752be849ebd",
   "metadata": {},
   "source": [
    "## <u>Third step:</u> Looking at the loaded data"
   ]
  },
  {
   "cell_type": "code",
   "execution_count": null,
   "id": "def57fa9-692f-4ab9-8e2e-da427676abf1",
   "metadata": {},
   "outputs": [],
   "source": [
    "ds = GasDataSet(100, geometry=\"spherical\", directory=data_path,wanted_keys='electrons')"
   ]
  },
  {
   "cell_type": "markdown",
   "id": "d025b506-516d-47e1-8af0-4e5bbcc28ae6",
   "metadata": {},
   "source": [
    "To see the loaded fields:"
   ]
  },
  {
   "cell_type": "code",
   "execution_count": null,
   "id": "84bb1c09-8841-4742-a1e9-009ee58b867d",
   "metadata": {},
   "outputs": [],
   "source": [
    "ds.keys()"
   ]
  },
  {
   "cell_type": "markdown",
   "id": "4c99a21c-e9b9-4660-a43f-32357766d5ab",
   "metadata": {},
   "source": [
    "If we load multiple fields:"
   ]
  },
  {
   "cell_type": "code",
   "execution_count": null,
   "id": "a86c95a3-caff-4ab6-844f-a9b89fead802",
   "metadata": {},
   "outputs": [],
   "source": [
    "ds = GasDataSet(100, geometry=\"spherical\", directory=data_path,wanted_keys='electrons,Bru,Dru')\n",
    "ds.keys()"
   ]
  },
  {
   "cell_type": "markdown",
   "id": "a2cddf94-27eb-47b5-98e9-1b46b552eebd",
   "metadata": {},
   "source": [
    "To access the parameters of the simulation:\n",
    "- input_params.dat\n",
    "- phys_params.dat"
   ]
  },
  {
   "cell_type": "code",
   "execution_count": null,
   "id": "5ab0855d-1bc3-455f-8687-eb1bdb896946",
   "metadata": {},
   "outputs": [],
   "source": [
    "ds.simu_params"
   ]
  },
  {
   "cell_type": "markdown",
   "id": "208a0b91-1770-4cb1-8865-1f33c9de0571",
   "metadata": {},
   "source": [
    "Get a precise value:"
   ]
  },
  {
   "cell_type": "code",
   "execution_count": null,
   "id": "981fd7df-46f9-4a94-af39-cf41abd407b7",
   "metadata": {},
   "outputs": [],
   "source": [
    "B0=ds.simu_params[\"B0\"]\n",
    "print(B0)"
   ]
  },
  {
   "cell_type": "markdown",
   "id": "3998c4cc-239c-4730-81e9-e425ed612c81",
   "metadata": {},
   "source": [
    "If you are missing a field for your analysis, you can simply update the dictionary **ds** "
   ]
  },
  {
   "cell_type": "code",
   "execution_count": null,
   "id": "7e913fb2-d9df-4b2c-b281-51db51865325",
   "metadata": {},
   "outputs": [],
   "source": [
    "ds.update(GasDataSet(100, geometry=\"spherical\", directory=data_path,wanted_keys='positrons'))\n"
   ]
  },
  {
   "cell_type": "markdown",
   "id": "58c6cbcd-6f81-4c95-8824-b5625fd2fe01",
   "metadata": {},
   "source": [
    "Check if the new field has been added"
   ]
  },
  {
   "cell_type": "code",
   "execution_count": null,
   "id": "bb35a945-57a3-4ced-ba1f-2ec822997bb1",
   "metadata": {},
   "outputs": [],
   "source": [
    "ds.keys()"
   ]
  },
  {
   "cell_type": "markdown",
   "id": "9e83eb0d-1d8e-4bc5-bd4d-fdc3f7ce9b45",
   "metadata": {},
   "source": [
    "Additional information encapsulated in **ds**"
   ]
  },
  {
   "cell_type": "code",
   "execution_count": null,
   "id": "f8b23cb0-777d-4db2-84d9-47fd7c74da7b",
   "metadata": {},
   "outputs": [],
   "source": [
    "print(\"Directory = \",ds.directory)"
   ]
  },
  {
   "cell_type": "code",
   "execution_count": null,
   "id": "39f38cc3-c517-4058-9b1a-6887131d6432",
   "metadata": {},
   "outputs": [],
   "source": [
    "print(\"Geometry = \",ds.geometry)"
   ]
  },
  {
   "cell_type": "code",
   "execution_count": null,
   "id": "3ae92cbb-c30b-4780-af81-7be16af1cc09",
   "metadata": {},
   "outputs": [],
   "source": [
    "print(ds.dict)"
   ]
  },
  {
   "cell_type": "code",
   "execution_count": null,
   "id": "c95f6e32-4593-4ba1-9eea-0913b03cca98",
   "metadata": {},
   "outputs": [],
   "source": [
    "print(\"Timestep =\",ds.it)"
   ]
  },
  {
   "cell_type": "code",
   "execution_count": null,
   "id": "48a167c7-9968-40f1-9a91-17e1d452f49f",
   "metadata": {},
   "outputs": [],
   "source": [
    "print(\"Grid in r:\", ds.grid.r)"
   ]
  },
  {
   "cell_type": "code",
   "execution_count": null,
   "id": "19c9c252-057b-4686-b6d2-0f11cb5a8db0",
   "metadata": {},
   "outputs": [],
   "source": [
    "print(\"Grid in theta:\", ds.grid.theta)"
   ]
  },
  {
   "cell_type": "markdown",
   "id": "83bb4335-ec23-4cdd-a236-512503ffc298",
   "metadata": {},
   "source": [
    "## <u>Fourth step</u>: Where are the data values? "
   ]
  },
  {
   "cell_type": "code",
   "execution_count": null,
   "id": "b2425e78-9d37-4e6c-a9d7-df34954e0019",
   "metadata": {},
   "outputs": [],
   "source": [
    "ds[\"Bru\"].data"
   ]
  },
  {
   "cell_type": "code",
   "execution_count": null,
   "id": "cb867808-a1ba-4aaa-99a4-f7cf29e55591",
   "metadata": {},
   "outputs": [],
   "source": [
    "np.shape(ds[\"Bru\"].data)"
   ]
  },
  {
   "cell_type": "markdown",
   "id": "e4c4b12f-7b35-4f3e-8f34-f00b8ccc403d",
   "metadata": {},
   "source": [
    "Use TAB to see the quantities available"
   ]
  },
  {
   "cell_type": "code",
   "execution_count": null,
   "id": "d10b2de9-4455-4c74-b4bb-a2f4cb6dd721",
   "metadata": {},
   "outputs": [],
   "source": [
    "Bru=ds[\"Bru\"]"
   ]
  },
  {
   "cell_type": "code",
   "execution_count": null,
   "id": "025a3c5f-aee9-49cf-9c8b-e6ed51b2c722",
   "metadata": {},
   "outputs": [],
   "source": [
    "Bru.data"
   ]
  },
  {
   "cell_type": "markdown",
   "id": "82441ae5-ae18-4b5e-b16c-d828acb4f82b",
   "metadata": {},
   "source": [
    "## Visualizing the data"
   ]
  },
  {
   "cell_type": "markdown",
   "id": "dd1c70cb-5592-4f93-b520-6b80fd15b0cf",
   "metadata": {},
   "source": [
    "There are two ways of visualizing the data:\n",
    "- regular matplotlib\n",
    "- map & plot function from zaapy"
   ]
  },
  {
   "cell_type": "markdown",
   "id": "c2f4b956-1b8a-4bff-8540-1214f9946755",
   "metadata": {},
   "source": [
    "With matplotlib:"
   ]
  },
  {
   "cell_type": "markdown",
   "id": "1ff80f90-716d-4077-89aa-a3adaa350658",
   "metadata": {},
   "source": [
    "Give the right expression for **A** and **B** (tip: use TAB to navigate the available instances of Bru)"
   ]
  },
  {
   "cell_type": "code",
   "execution_count": null,
   "id": "834a95c2-dfe8-42af-b4ab-bcdcfcaa1f0e",
   "metadata": {},
   "outputs": [],
   "source": [
    "A = # A is the r grid\n",
    "B = # B is the theta grid\n",
    "\n",
    "fig,ax=plt.subplots(subplot_kw=dict(polar=True))\n",
    "cax=ax.pcolormesh(B[:-1],A[:-1],Bru.data.T/B0,vmin=-0.3,vmax=0.3,cmap=\"PuOr\")\n",
    "fig.colorbar(cax)\n",
    "ax.set_rmin(-0.0001*np.min(A))\n",
    "ax.set_rmax(np.max(A))\n",
    "ax.set_thetamax(np.max(B)*180/np.pi)\n",
    "ax.set_theta_zero_location(\"N\")\n",
    "ax.set_theta_direction(-1)\n",
    "\n",
    "plt.show()"
   ]
  },
  {
   "cell_type": "markdown",
   "id": "801ceaf7-bbd5-49af-a8e4-d16275d4eeba",
   "metadata": {},
   "source": [
    "Field lines are stored in **.mfl** if available"
   ]
  },
  {
   "cell_type": "code",
   "execution_count": null,
   "id": "f6ca3526-d0d9-487f-8ebd-b5a2e053966a",
   "metadata": {},
   "outputs": [],
   "source": [
    "field_lines = # instance of Bru, for example data is an instance of Bru\n",
    "\n",
    "fig,ax=plt.subplots(subplot_kw=dict(polar=True))\n",
    "cax=ax.pcolormesh(B[:-1],A[:-1],Bru.data.T/B0,vmin=-0.3,vmax=0.3,cmap=\"PuOr\")\n",
    "fig.colorbar(cax)\n",
    "ax.contour(B[:-1],A[:-1],field_lines.T/B0,levels=20,colors=\"k\")\n",
    "ax.set_rmin(-0.0001*np.min(A))\n",
    "ax.set_rmax(np.max(A))\n",
    "ax.set_thetamax(np.max(B)*180/np.pi)\n",
    "ax.set_theta_zero_location(\"N\")\n",
    "ax.set_theta_direction(-1)\n",
    "\n",
    "plt.show()"
   ]
  },
  {
   "cell_type": "markdown",
   "id": "db4d5c59-40fa-4f9c-834c-e9e00e8b8622",
   "metadata": {},
   "source": [
    "Using **map** and **plot** functions from zaapy"
   ]
  },
  {
   "cell_type": "markdown",
   "id": "d06f86b9-f16a-4aa5-9e2d-3bb20958ba71",
   "metadata": {},
   "source": [
    "Directly from the dataset"
   ]
  },
  {
   "cell_type": "code",
   "execution_count": null,
   "id": "790a0ab7-20fe-438c-b226-92a4d342790d",
   "metadata": {},
   "outputs": [],
   "source": [
    "dsop = ds[\"Bru\"].map(\"x\", \"z\")\n",
    "fig, ax = plt.subplots()\n",
    "dsop.plot(fig, ax, cmap=\"PuOr\", vmin=-1e4,vmax=1e4, title=r\"$B_\\phi$\")\n",
    "ax.set_aspect(\"equal\")\n",
    "\n",
    "plt.show()"
   ]
  },
  {
   "cell_type": "markdown",
   "id": "d0c3fd2b-ba34-4360-97ed-97e14c778cac",
   "metadata": {},
   "source": [
    "Or direcly"
   ]
  },
  {
   "cell_type": "code",
   "execution_count": null,
   "id": "f1d8389e-0238-4553-9c5e-c2f83a5874f4",
   "metadata": {},
   "outputs": [],
   "source": [
    "fig, ax = plt.subplots()\n",
    "Bru.map(\"x\",\"z\").plot(fig, ax, cmap=\"PuOr\", vmin=-0.3*B0,vmax=0.3*B0, title=r\"$B_\\phi$\")\n",
    "ax.set_aspect(\"equal\")\n",
    "\n",
    "plt.show()"
   ]
  },
  {
   "cell_type": "markdown",
   "id": "fc70131d-8568-4087-b3bd-45d6a084f6b1",
   "metadata": {},
   "source": [
    "Varying the number of levels (arg=levels) and removing the colorbar (arg=title)"
   ]
  },
  {
   "cell_type": "code",
   "execution_count": null,
   "id": "b8d0d9b1-d70f-45e3-b4b7-170f50bccb7d",
   "metadata": {},
   "outputs": [],
   "source": [
    "fig, ax = plt.subplots()\n",
    "Bru.map(\"x\",\"z\").plot(fig, ax, cmap=\"PuOr\", vmin=-0.3*B0,vmax=0.3*B0, levels=20)\n",
    "ax.set_aspect(\"equal\")\n",
    "\n",
    "plt.show()"
   ]
  },
  {
   "cell_type": "markdown",
   "id": "82b317f5-bcb1-4541-ba45-dd3f10a160c5",
   "metadata": {},
   "source": [
    "If **log(data)** needed, use argument **log=True**"
   ]
  },
  {
   "cell_type": "code",
   "execution_count": null,
   "id": "db6bacef-2d85-4d27-8319-6c6068347b2d",
   "metadata": {},
   "outputs": [],
   "source": [
    "dsop = ds[\"electrons\"].map(\"x\", \"z\")\n",
    "fig, ax = plt.subplots()\n",
    "dsop.plot(fig, ax, log=True, cmap=\"viridis\", vmin=1,vmax=3, title=r\"$\\rho_{\\rm mid}$\")\n",
    "ax.set_aspect(\"equal\")\n",
    "\n",
    "plt.show()"
   ]
  },
  {
   "cell_type": "markdown",
   "id": "ef7c268d-1a7a-44cc-8f95-d9779a77b344",
   "metadata": {},
   "source": [
    "## Computing new fields"
   ]
  },
  {
   "cell_type": "markdown",
   "id": "efb6d591-cd01-48b1-9d37-045131b1be10",
   "metadata": {},
   "source": [
    "To do so, we need to imporeet the **compute** function"
   ]
  },
  {
   "cell_type": "code",
   "execution_count": null,
   "id": "3b2647c8-e408-4237-bd7a-78175ad41ce5",
   "metadata": {},
   "outputs": [],
   "source": [
    "from zaapy.api import compute"
   ]
  },
  {
   "cell_type": "markdown",
   "id": "0eb5cd38-f734-4f66-a831-5269dc1fcb5b",
   "metadata": {},
   "source": [
    "Example of computation"
   ]
  },
  {
   "cell_type": "code",
   "execution_count": null,
   "id": "ecc9432a-4df8-4ea9-826a-b2269bb5d0cf",
   "metadata": {},
   "outputs": [],
   "source": [
    "data_path=zaapy_path / \"tests/half_domain/\"\n",
    "ds = GasDataSet(46000, geometry=\"spherical\", directory=data_path,wanted_keys='Dru')\n",
    "ds.keys()\n",
    "B0=ds.simu_params[\"B0\"]"
   ]
  },
  {
   "cell_type": "code",
   "execution_count": null,
   "id": "165a320b-ddab-43b4-9895-0421a6063463",
   "metadata": {},
   "outputs": [],
   "source": [
    "fig,ax=plt.subplots()\n",
    "ds[\"Dru\"].map(\"x\",\"z\").plot(fig,ax,vmin=-0.002*B0,vmax=0.002*B0,cmap=\"PuOr_r\",title=\"Dru\")\n",
    "ax.set_aspect(\"equal\")\n",
    "plt.show()"
   ]
  },
  {
   "cell_type": "markdown",
   "id": "b9db2183-9469-4cf2-b387-ed2d2d65c244",
   "metadata": {},
   "source": [
    "Compute the absolute value of Dru"
   ]
  },
  {
   "cell_type": "code",
   "execution_count": null,
   "id": "04970bb1-ed84-4c99-8c41-687ffb961a87",
   "metadata": {},
   "outputs": [],
   "source": [
    "abs_Dru = compute(\n",
    "  field=\"|Dru|\",\n",
    "  data=np.abs(ds[\"Dru\"].data),\n",
    "  ref=ds[\"Dru\"],\n",
    ")"
   ]
  },
  {
   "cell_type": "code",
   "execution_count": null,
   "id": "f82371f6-532d-422b-b439-cae0d135f5fe",
   "metadata": {},
   "outputs": [],
   "source": [
    "fig,ax=plt.subplots()\n",
    "abs_Dru.map(\"x\",\"z\").plot(fig,ax,vmin=-0.002*B0,vmax=0.002*B0,cmap=\"PuOr_r\",title=\"abs(Dru)\")\n",
    "ax.set_aspect(\"equal\")\n",
    "plt.show()"
   ]
  },
  {
   "cell_type": "markdown",
   "id": "524cc5d0-d876-4b01-a8c1-807b8ab6e617",
   "metadata": {},
   "source": [
    "Let's compute the pairs density"
   ]
  },
  {
   "cell_type": "code",
   "execution_count": null,
   "id": "52a0cc2c-74a3-48ff-a95c-3d894299f222",
   "metadata": {},
   "outputs": [],
   "source": [
    "ds = GasDataSet(46000, geometry=\"spherical\", directory=data_path,wanted_keys='')\n",
    "ds.keys()"
   ]
  },
  {
   "cell_type": "code",
   "execution_count": null,
   "id": "9371fd8b-982f-42e0-a6f2-ccf5195c9d1f",
   "metadata": {},
   "outputs": [],
   "source": [
    "n0="
   ]
  },
  {
   "cell_type": "code",
   "execution_count": null,
   "id": "8699f00a-b570-4ac2-85af-46f8dcb03332",
   "metadata": {},
   "outputs": [],
   "source": [
    "pairs = compute(\n",
    "  field=,\n",
    "  data=,\n",
    "  ref=,\n",
    ")"
   ]
  },
  {
   "cell_type": "code",
   "execution_count": null,
   "id": "2ff977c5-df2c-4a69-984b-361b8fc0a561",
   "metadata": {},
   "outputs": [],
   "source": [
    "fig,ax=plt.subplots()\n",
    "pairs.map(\"x\",\"z\").plot(fig,ax,cmap=\"viridis\",vmin=,vmax=)\n",
    "ax.set_aspect(\"equal\")\n",
    "plt.show()"
   ]
  },
  {
   "cell_type": "code",
   "execution_count": null,
   "id": "6c0fe47e-fe99-4d21-b020-17017241bfea",
   "metadata": {},
   "outputs": [],
   "source": [
    "dsop = ds[\"electrons\"].map(\"x\", \"z\")\n",
    "fig, ax = plt.subplots()\n",
    "dsop.plot(fig, ax, cmap=\"viridis\")\n",
    "ax.set_aspect(\"equal\")\n",
    "\n",
    "plt.show()"
   ]
  },
  {
   "cell_type": "markdown",
   "id": "499ae0f4-47e3-4f00-ac07-d4c29a76d560",
   "metadata": {},
   "source": [
    "# <center>Testing with numpy<center>"
   ]
  },
  {
   "cell_type": "markdown",
   "id": "99af55f5-c8f0-42fd-8ed6-8ef7cea918d9",
   "metadata": {},
   "source": [
    "Use numpy as much as possible for faster scripts (numpy interfaces with C/C++)"
   ]
  },
  {
   "cell_type": "code",
   "execution_count": null,
   "id": "0ce1f6ec-2e0a-470e-811e-912713f6baea",
   "metadata": {},
   "outputs": [],
   "source": [
    "from numpy.testing import assert_array_almost_equal"
   ]
  },
  {
   "cell_type": "code",
   "execution_count": null,
   "id": "6ee14043-9de1-45a0-969b-8596ea625bb3",
   "metadata": {},
   "outputs": [],
   "source": [
    "ds = GasDataSet(368000, geometry=\"spherical\", directory=\"/home/soudaisa/charge_prod/reference/\",wanted_keys='Bth,Bph,Eth,Eph')\n",
    "Bth,Bph=ds[\"Bth\"].data.T,ds[\"Bph\"].data.T\n",
    "Eth,Eph=ds[\"Eth\"].data.T,ds[\"Eph\"].data.T\n",
    "dtheta=ds.grid.theta[1]-ds.grid.theta[0]"
   ]
  },
  {
   "cell_type": "code",
   "execution_count": null,
   "id": "2dd47133-b7ef-4560-9572-46b0903b3bb6",
   "metadata": {},
   "outputs": [],
   "source": [
    "theta=ds.grid.theta[:-1]\n",
    "r=ds.grid.r[:-1]"
   ]
  },
  {
   "cell_type": "code",
   "execution_count": null,
   "id": "9639b8ca-3c23-4a75-9989-b2bfcd5bd931",
   "metadata": {},
   "outputs": [],
   "source": [
    "diss = np.einsum(\"ij,j,i->i\", (Eth * Bph - Eph * Bth) * dtheta, np.sin(theta), 2.9979246e10 / 2.0 * r**2.0)\n"
   ]
  },
  {
   "cell_type": "code",
   "execution_count": null,
   "id": "2ca9754e-8483-4837-b663-3af7143e1670",
   "metadata": {},
   "outputs": [],
   "source": [
    "import scipy\n",
    "diss_loop = np.empty(len(r))\n",
    "ddiss = np.empty(len(theta))\n",
    "for ir in range(len(r)):\n",
    "    for ith in range(len(theta)):\n",
    "        ddiss[ith] = (\n",
    "         2.9979246e10\n",
    "         * (Eth[ir, ith] * Bph[ir, ith] - Eph[ir, ith] * Bth[ir, ith])\n",
    "         / 2.0\n",
    "         * r[ir]\n",
    "         * r[ir]\n",
    "         * np.sin(theta[ith])\n",
    "        )\n",
    "\n",
    "    diss_loop[ir] = scipy.integrate.simps(ddiss, x=theta)\n",
    "print(\"Done\")"
   ]
  },
  {
   "cell_type": "code",
   "execution_count": null,
   "id": "d8c8eeaf-4447-40d1-8c27-2aca711c8168",
   "metadata": {},
   "outputs": [],
   "source": [
    "diss0 = 2.9979246e10 / 4.0 * ds.simu_params[\"B0 [G]\"]**2 * ds.simu_params[\"rmin [cm]\"]**6 / (ds.simu_params[\"rlc [cm]\"]**4)\n",
    "fig,ax=plt.subplots()\n",
    "ax.plot(r,diss/diss0)\n",
    "ax.plot(r,diss_loop/diss0)\n",
    "plt.show()"
   ]
  },
  {
   "cell_type": "code",
   "execution_count": null,
   "id": "64e0d719-e937-4585-a3ba-79839dcc33ad",
   "metadata": {},
   "outputs": [],
   "source": [
    "assert_array_almost_equal(diss/diss0,diss_loop/diss0,decimal=4)"
   ]
  },
  {
   "cell_type": "code",
   "execution_count": null,
   "id": "c7fa2736-5a8f-4aff-a3fd-44b9c40e7255",
   "metadata": {},
   "outputs": [],
   "source": [
    "assert_array_almost_equal(diss/diss0,diss_loop/diss0,decimal=5)"
   ]
  },
  {
   "cell_type": "code",
   "execution_count": null,
   "id": "b1b10aef-9c61-43d0-93b0-cec452d11f9c",
   "metadata": {},
   "outputs": [],
   "source": [
    "assert_array_almost_equal(diss/diss0,diss_loop/diss0,decimal=6)"
   ]
  },
  {
   "cell_type": "code",
   "execution_count": null,
   "id": "351482b6-8cd0-48a7-9930-c5bbaef1e5db",
   "metadata": {},
   "outputs": [],
   "source": []
  }
 ],
 "metadata": {
  "kernelspec": {
   "display_name": "Python 3 (ipykernel)",
   "language": "python",
   "name": "python3"
  },
  "language_info": {
   "codemirror_mode": {
    "name": "ipython",
    "version": 3
   },
   "file_extension": ".py",
   "mimetype": "text/x-python",
   "name": "python",
   "nbconvert_exporter": "python",
   "pygments_lexer": "ipython3",
   "version": "3.8.10"
  }
 },
 "nbformat": 4,
 "nbformat_minor": 5
}
